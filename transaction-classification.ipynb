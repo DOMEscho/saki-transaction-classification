{
 "cells": [
  {
   "cell_type": "code",
   "execution_count": 2,
   "metadata": {},
   "outputs": [],
   "source": [
    "import numpy as np\n",
    "import pandas as pd\n",
    "\n",
    "from sklearn.naive_bayes import GaussianNB\n",
    "from sklearn.feature_extraction.text import CountVectorizer\n",
    "\n",
    "from sklearn.preprocessing import OneHotEncoder, StandardScaler\n",
    "from sklearn.compose import ColumnTransformer\n",
    "from sklearn.model_selection import train_test_split, cross_val_score, KFold\n",
    "from sklearn.pipeline import Pipeline\n",
    "from sklearn.impute import SimpleImputer\n",
    "from sklearn.base import BaseEstimator, TransformerMixin\n",
    "from scipy.sparse import hstack\n",
    "\n",
    "from sklearn.metrics import classification_report\n",
    "\n",
    "import matplotlib.pyplot as plt"
   ]
  },
  {
   "cell_type": "code",
   "execution_count": 3,
   "metadata": {},
   "outputs": [],
   "source": [
    "# Load the data and store it as a pandas data frame\n",
    "transactions = pd.read_csv('SAKI Exercise 1 - Transaction Classification - Data Set.csv', sep=';')"
   ]
  },
  {
   "cell_type": "code",
   "execution_count": null,
   "metadata": {},
   "outputs": [],
   "source": []
  },
  {
   "cell_type": "markdown",
   "metadata": {},
   "source": [
    "# Quick glance at the data set\n",
    "Only a quick glance at the whole data set to get a feeling about the data structures. A more detailed analysis will be done on the training set. "
   ]
  },
  {
   "cell_type": "code",
   "execution_count": 4,
   "metadata": {},
   "outputs": [
    {
     "data": {
      "text/html": [
       "<div>\n",
       "<style scoped>\n",
       "    .dataframe tbody tr th:only-of-type {\n",
       "        vertical-align: middle;\n",
       "    }\n",
       "\n",
       "    .dataframe tbody tr th {\n",
       "        vertical-align: top;\n",
       "    }\n",
       "\n",
       "    .dataframe thead th {\n",
       "        text-align: right;\n",
       "    }\n",
       "</style>\n",
       "<table border=\"1\" class=\"dataframe\">\n",
       "  <thead>\n",
       "    <tr style=\"text-align: right;\">\n",
       "      <th></th>\n",
       "      <th>Unnamed: 0</th>\n",
       "      <th>Auftragskonto</th>\n",
       "      <th>Buchungstag</th>\n",
       "      <th>Valutadatum</th>\n",
       "      <th>Buchungstext</th>\n",
       "      <th>Verwendungszweck</th>\n",
       "      <th>Beguenstigter/Zahlungspflichtiger</th>\n",
       "      <th>Kontonummer</th>\n",
       "      <th>BLZ</th>\n",
       "      <th>Betrag</th>\n",
       "      <th>Waehrung</th>\n",
       "      <th>label</th>\n",
       "    </tr>\n",
       "  </thead>\n",
       "  <tbody>\n",
       "    <tr>\n",
       "      <th>0</th>\n",
       "      <td>0</td>\n",
       "      <td>89990201.0</td>\n",
       "      <td>28.07.2016</td>\n",
       "      <td>28.07.2016</td>\n",
       "      <td>Lohn / Gehalt</td>\n",
       "      <td>Gehalt Adorsys GmbH &amp; Co. KG End-To-End-Ref.: ...</td>\n",
       "      <td>Adorsys GmbH &amp; Co. KG</td>\n",
       "      <td>7807800780</td>\n",
       "      <td>25190001</td>\n",
       "      <td>2000.00</td>\n",
       "      <td>EUR</td>\n",
       "      <td>income</td>\n",
       "    </tr>\n",
       "    <tr>\n",
       "      <th>1</th>\n",
       "      <td>1</td>\n",
       "      <td>89990201.0</td>\n",
       "      <td>27.07.2016</td>\n",
       "      <td>27.07.2016</td>\n",
       "      <td>Miete</td>\n",
       "      <td>Byladem1Sbt De12773501123456789889 Miete Beuth...</td>\n",
       "      <td>Georg Tasche</td>\n",
       "      <td>DE31251900019123456780</td>\n",
       "      <td>VOHADE2HXXX</td>\n",
       "      <td>-670.00</td>\n",
       "      <td>EUR</td>\n",
       "      <td>living</td>\n",
       "    </tr>\n",
       "    <tr>\n",
       "      <th>2</th>\n",
       "      <td>2</td>\n",
       "      <td>89990201.0</td>\n",
       "      <td>21.07.2016</td>\n",
       "      <td>21.07.2016</td>\n",
       "      <td>Bargeld</td>\n",
       "      <td>21.07/16.34Uhr Nuernberg All Eur 70,00 Geb.Eur...</td>\n",
       "      <td>Bargeld</td>\n",
       "      <td>9999900780</td>\n",
       "      <td>25190001</td>\n",
       "      <td>-70.00</td>\n",
       "      <td>EUR</td>\n",
       "      <td>private</td>\n",
       "    </tr>\n",
       "    <tr>\n",
       "      <th>3</th>\n",
       "      <td>3</td>\n",
       "      <td>89990201.0</td>\n",
       "      <td>20.07.2016</td>\n",
       "      <td>20.07.2016</td>\n",
       "      <td>Lebensmittel / Getraenke</td>\n",
       "      <td>2831 Edeka Neubauer Nuernb.//Nuernb 2016-07-20...</td>\n",
       "      <td>Kartenzahlung</td>\n",
       "      <td>9736000780</td>\n",
       "      <td>25190001</td>\n",
       "      <td>-73.21</td>\n",
       "      <td>EUR</td>\n",
       "      <td>standardOfLiving</td>\n",
       "    </tr>\n",
       "    <tr>\n",
       "      <th>4</th>\n",
       "      <td>4</td>\n",
       "      <td>89990201.0</td>\n",
       "      <td>18.07.2016</td>\n",
       "      <td>18.07.2016</td>\n",
       "      <td>Spontanausgabe</td>\n",
       "      <td>Amazon</td>\n",
       "      <td>neue Playstation</td>\n",
       "      <td>9988776655</td>\n",
       "      <td>25125100</td>\n",
       "      <td>-363</td>\n",
       "      <td>EUR</td>\n",
       "      <td>leisure</td>\n",
       "    </tr>\n",
       "  </tbody>\n",
       "</table>\n",
       "</div>"
      ],
      "text/plain": [
       "   Unnamed: 0  Auftragskonto Buchungstag Valutadatum  \\\n",
       "0           0     89990201.0  28.07.2016  28.07.2016   \n",
       "1           1     89990201.0  27.07.2016  27.07.2016   \n",
       "2           2     89990201.0  21.07.2016  21.07.2016   \n",
       "3           3     89990201.0  20.07.2016  20.07.2016   \n",
       "4           4     89990201.0  18.07.2016  18.07.2016   \n",
       "\n",
       "               Buchungstext  \\\n",
       "0             Lohn / Gehalt   \n",
       "1                     Miete   \n",
       "2                   Bargeld   \n",
       "3  Lebensmittel / Getraenke   \n",
       "4            Spontanausgabe   \n",
       "\n",
       "                                    Verwendungszweck  \\\n",
       "0  Gehalt Adorsys GmbH & Co. KG End-To-End-Ref.: ...   \n",
       "1  Byladem1Sbt De12773501123456789889 Miete Beuth...   \n",
       "2  21.07/16.34Uhr Nuernberg All Eur 70,00 Geb.Eur...   \n",
       "3  2831 Edeka Neubauer Nuernb.//Nuernb 2016-07-20...   \n",
       "4                                             Amazon   \n",
       "\n",
       "  Beguenstigter/Zahlungspflichtiger             Kontonummer          BLZ  \\\n",
       "0             Adorsys GmbH & Co. KG              7807800780     25190001   \n",
       "1                      Georg Tasche  DE31251900019123456780  VOHADE2HXXX   \n",
       "2                           Bargeld              9999900780     25190001   \n",
       "3                     Kartenzahlung              9736000780     25190001   \n",
       "4                  neue Playstation              9988776655     25125100   \n",
       "\n",
       "    Betrag Waehrung             label  \n",
       "0  2000.00      EUR            income  \n",
       "1  -670.00      EUR            living  \n",
       "2   -70.00      EUR           private  \n",
       "3   -73.21      EUR  standardOfLiving  \n",
       "4     -363      EUR           leisure  "
      ]
     },
     "execution_count": 4,
     "metadata": {},
     "output_type": "execute_result"
    }
   ],
   "source": [
    "transactions.head()"
   ]
  },
  {
   "cell_type": "code",
   "execution_count": 5,
   "metadata": {},
   "outputs": [
    {
     "data": {
      "text/plain": [
       "leisure             65\n",
       "standardOfLiving    47\n",
       "finance             33\n",
       "living              26\n",
       "private             21\n",
       "income              17\n",
       "Name: label, dtype: int64"
      ]
     },
     "execution_count": 5,
     "metadata": {},
     "output_type": "execute_result"
    }
   ],
   "source": [
    "transactions['label'].value_counts()"
   ]
  },
  {
   "cell_type": "code",
   "execution_count": 6,
   "metadata": {},
   "outputs": [
    {
     "name": "stdout",
     "output_type": "stream",
     "text": [
      "<class 'pandas.core.frame.DataFrame'>\n",
      "RangeIndex: 209 entries, 0 to 208\n",
      "Data columns (total 12 columns):\n",
      " #   Column                             Non-Null Count  Dtype  \n",
      "---  ------                             --------------  -----  \n",
      " 0   Unnamed: 0                         209 non-null    int64  \n",
      " 1   Auftragskonto                      168 non-null    float64\n",
      " 2   Buchungstag                        209 non-null    object \n",
      " 3   Valutadatum                        209 non-null    object \n",
      " 4   Buchungstext                       209 non-null    object \n",
      " 5   Verwendungszweck                   209 non-null    object \n",
      " 6   Beguenstigter/Zahlungspflichtiger  209 non-null    object \n",
      " 7   Kontonummer                        208 non-null    object \n",
      " 8   BLZ                                208 non-null    object \n",
      " 9   Betrag                             209 non-null    object \n",
      " 10  Waehrung                           209 non-null    object \n",
      " 11  label                              209 non-null    object \n",
      "dtypes: float64(1), int64(1), object(10)\n",
      "memory usage: 19.7+ KB\n"
     ]
    }
   ],
   "source": [
    "transactions.info()"
   ]
  },
  {
   "cell_type": "code",
   "execution_count": null,
   "metadata": {},
   "outputs": [],
   "source": []
  },
  {
   "cell_type": "markdown",
   "metadata": {},
   "source": [
    "## Train and Test Data Split"
   ]
  },
  {
   "cell_type": "code",
   "execution_count": 17,
   "metadata": {},
   "outputs": [],
   "source": [
    "X_train, X_test, y_train, y_test = train_test_split(\n",
    "            transactions.drop('label', axis=1),      # features\n",
    "            transactions['label'],                   # labels\n",
    "            test_size = 0.2,                         # Split into 80% train and 20% test data\n",
    "            random_state = 42,                       # Makes sure that in every run the same test data is used \n",
    "            shuffle = True,                          # Shuffles the data set before splitting\n",
    "            # Does not split randomly but preserves the same distribtution\n",
    "            # (of labels) in the test and the train data set\n",
    "            stratify = transactions['label'])"
   ]
  },
  {
   "cell_type": "markdown",
   "metadata": {},
   "source": [
    "# Detailed Analysis\n",
    "In the following section we examine each feature/column"
   ]
  },
  {
   "cell_type": "code",
   "execution_count": 18,
   "metadata": {},
   "outputs": [
    {
     "name": "stdout",
     "output_type": "stream",
     "text": [
      "#1 :  Unnamed: 0\n",
      "#2 :  Auftragskonto\n",
      "#3 :  Buchungstag\n",
      "#4 :  Valutadatum\n",
      "#5 :  Buchungstext\n",
      "#6 :  Verwendungszweck\n",
      "#7 :  Beguenstigter/Zahlungspflichtiger\n",
      "#8 :  Kontonummer\n",
      "#9 :  BLZ\n",
      "#10:  Betrag\n",
      "#11:  Waehrung\n",
      "#12:  label\n"
     ]
    }
   ],
   "source": [
    "for col_nr, col_name in enumerate(list(transactions.columns)):\n",
    "    print(f'#{col_nr+1:<2}:  {col_name}')"
   ]
  },
  {
   "cell_type": "markdown",
   "metadata": {},
   "source": [
    "### #1 Unnamed: 0"
   ]
  },
  {
   "cell_type": "code",
   "execution_count": 194,
   "metadata": {},
   "outputs": [
    {
     "data": {
      "text/html": [
       "<div>\n",
       "<style scoped>\n",
       "    .dataframe tbody tr th:only-of-type {\n",
       "        vertical-align: middle;\n",
       "    }\n",
       "\n",
       "    .dataframe tbody tr th {\n",
       "        vertical-align: top;\n",
       "    }\n",
       "\n",
       "    .dataframe thead th {\n",
       "        text-align: right;\n",
       "    }\n",
       "</style>\n",
       "<table border=\"1\" class=\"dataframe\">\n",
       "  <thead>\n",
       "    <tr style=\"text-align: right;\">\n",
       "      <th></th>\n",
       "      <th>Unnamed: 0</th>\n",
       "      <th>Auftragskonto</th>\n",
       "      <th>Buchungstag</th>\n",
       "      <th>Valutadatum</th>\n",
       "      <th>Buchungstext</th>\n",
       "      <th>Verwendungszweck</th>\n",
       "      <th>Beguenstigter/Zahlungspflichtiger</th>\n",
       "      <th>Kontonummer</th>\n",
       "      <th>BLZ</th>\n",
       "      <th>Betrag</th>\n",
       "      <th>Waehrung</th>\n",
       "    </tr>\n",
       "  </thead>\n",
       "  <tbody>\n",
       "  </tbody>\n",
       "</table>\n",
       "</div>"
      ],
      "text/plain": [
       "Empty DataFrame\n",
       "Columns: [Unnamed: 0, Auftragskonto, Buchungstag, Valutadatum, Buchungstext, Verwendungszweck, Beguenstigter/Zahlungspflichtiger, Kontonummer, BLZ, Betrag, Waehrung]\n",
       "Index: []"
      ]
     },
     "execution_count": 194,
     "metadata": {},
     "output_type": "execute_result"
    }
   ],
   "source": [
    "X_train[X_train.index != X_train['Unnamed: 0']]"
   ]
  },
  {
   "cell_type": "markdown",
   "metadata": {},
   "source": [
    "This aligns with the assumption that the column 'Unnamed: 0' serves as an index/id for the individual transactions. As this is not a feature of the transaction itself it should not be selected as a feature."
   ]
  },
  {
   "cell_type": "markdown",
   "metadata": {},
   "source": [
    "### #2 Auftragskonto"
   ]
  },
  {
   "cell_type": "code",
   "execution_count": 10,
   "metadata": {},
   "outputs": [
    {
     "data": {
      "text/plain": [
       "89990210.0    97\n",
       "89990201.0    36\n",
       "NaN           34\n",
       "Name: Auftragskonto, dtype: int64"
      ]
     },
     "execution_count": 10,
     "metadata": {},
     "output_type": "execute_result"
    }
   ],
   "source": [
    "X_train['Auftragskonto'].value_counts(dropna=False)                   "
   ]
  },
  {
   "cell_type": "markdown",
   "metadata": {},
   "source": [
    "There are only two accounts and NaN values. These values should not be treated as if they have order (89990210.0 > 89990201.0 ?) and NaN values should be considered. We use one-hot enoding to solve both problems."
   ]
  },
  {
   "cell_type": "markdown",
   "metadata": {},
   "source": [
    "### #3 Buchungstag & #4 Valutadatum"
   ]
  },
  {
   "cell_type": "markdown",
   "metadata": {},
   "source": [
    "A first glance at the data already gave the impression that both dates are identical."
   ]
  },
  {
   "cell_type": "code",
   "execution_count": 191,
   "metadata": {},
   "outputs": [
    {
     "data": {
      "text/html": [
       "<div>\n",
       "<style scoped>\n",
       "    .dataframe tbody tr th:only-of-type {\n",
       "        vertical-align: middle;\n",
       "    }\n",
       "\n",
       "    .dataframe tbody tr th {\n",
       "        vertical-align: top;\n",
       "    }\n",
       "\n",
       "    .dataframe thead th {\n",
       "        text-align: right;\n",
       "    }\n",
       "</style>\n",
       "<table border=\"1\" class=\"dataframe\">\n",
       "  <thead>\n",
       "    <tr style=\"text-align: right;\">\n",
       "      <th></th>\n",
       "      <th>Unnamed: 0</th>\n",
       "      <th>Auftragskonto</th>\n",
       "      <th>Buchungstag</th>\n",
       "      <th>Valutadatum</th>\n",
       "      <th>Buchungstext</th>\n",
       "      <th>Verwendungszweck</th>\n",
       "      <th>Beguenstigter/Zahlungspflichtiger</th>\n",
       "      <th>Kontonummer</th>\n",
       "      <th>BLZ</th>\n",
       "      <th>Betrag</th>\n",
       "      <th>Waehrung</th>\n",
       "    </tr>\n",
       "  </thead>\n",
       "  <tbody>\n",
       "  </tbody>\n",
       "</table>\n",
       "</div>"
      ],
      "text/plain": [
       "Empty DataFrame\n",
       "Columns: [Unnamed: 0, Auftragskonto, Buchungstag, Valutadatum, Buchungstext, Verwendungszweck, Beguenstigter/Zahlungspflichtiger, Kontonummer, BLZ, Betrag, Waehrung]\n",
       "Index: []"
      ]
     },
     "execution_count": 191,
     "metadata": {},
     "output_type": "execute_result"
    }
   ],
   "source": [
    "X_train[X_train['Buchungstag'] != X_train['Valutadatum']]"
   ]
  },
  {
   "cell_type": "markdown",
   "metadata": {},
   "source": [
    "By examining our training set we can confirm this.\n",
    "Of course it may differ on unseen data but since there is no hint \n",
    "in the training data we only take one date into consideration.\n",
    "Here 'Buchungstag' is the better feature because it is more related to the user side of the transaction, while 'Valutadatum' depends on the process of the bank and is not linked to the type of transaction."
   ]
  },
  {
   "cell_type": "code",
   "execution_count": 193,
   "metadata": {},
   "outputs": [
    {
     "data": {
      "text/plain": [
       "150    25.01.2016\n",
       "96     02.03.2016\n",
       "199    02.03.2016\n",
       "68     31.03.2016\n",
       "156    20.01.2016\n",
       "          ...    \n",
       "106    29.02.2016\n",
       "14     08.06.2016\n",
       "92     04.03.2016\n",
       "179    01.06.2016\n",
       "102    29.02.2016\n",
       "Name: Buchungstag, Length: 167, dtype: object"
      ]
     },
     "execution_count": 193,
     "metadata": {},
     "output_type": "execute_result"
    }
   ],
   "source": [
    "X_train['Buchungstag']"
   ]
  },
  {
   "cell_type": "code",
   "execution_count": 19,
   "metadata": {},
   "outputs": [
    {
     "name": "stdout",
     "output_type": "stream",
     "text": [
      "Years that occur in the data:\n",
      "[2016]\n",
      "Months that occur in the data:\n",
      "[1 2 3 4 5 6 7]\n",
      "Days that occur in the data:\n",
      "[ 1  2  3  4  5  6  7  8  9 10 11 13 14 15 16 18 19 20 21 22 23 24 25 26\n",
      " 27 28 29 30 31]\n",
      "Weekdays that occur in the data:\n",
      "[1 2 3 4 5]\n"
     ]
    }
   ],
   "source": [
    "dates = pd.to_datetime(X_train['Buchungstag'], format = '%d.%m.%Y', errors = 'raise')\n",
    "print('Years that occur in the data:')\n",
    "print(np.sort(dates.apply(lambda x : x.year).unique()))\n",
    "print('Months that occur in the data:')\n",
    "print(np.sort(dates.apply(lambda x : x.month).unique()))\n",
    "print('Days that occur in the data:')\n",
    "print(np.sort(dates.apply(lambda x : x.day).unique()))\n",
    "print('Weekdays that occur in the data:')\n",
    "print(np.sort(dates.apply(lambda x : x.isoweekday()).unique()))"
   ]
  },
  {
   "cell_type": "markdown",
   "metadata": {},
   "source": [
    "To use the date as a feature we consider the following: \n",
    "\n",
    "- Weekday\n",
    "- Day of month\n",
    "    \n",
    "We do not consider:\n",
    "\n",
    "- Year: The data set is based on 2016 and we want predictions for future years as well\n",
    "- Month: The data set only contains data up to July\n"
   ]
  },
  {
   "cell_type": "markdown",
   "metadata": {},
   "source": [
    "### #5 Buchungstext"
   ]
  },
  {
   "cell_type": "code",
   "execution_count": 25,
   "metadata": {},
   "outputs": [
    {
     "data": {
      "text/plain": [
       "Lastschrift (Einzugsermächtigung)    77\n",
       "Geldanlage                           14\n",
       "Lebensmittel / Getraenke             13\n",
       "Lohn / Gehalt                        11\n",
       "Dauerauftrag                          9\n",
       "Miete                                 9\n",
       "Drogerie                              9\n",
       "Mieteinnahmen                         7\n",
       "Euro-Überweisung                      7\n",
       "Bargeld                               6\n",
       "Gehalt/Rente                          3\n",
       "Abschluss                             1\n",
       "Spontanausgabe                        1\n",
       "Name: Buchungstext, dtype: int64"
      ]
     },
     "execution_count": 25,
     "metadata": {},
     "output_type": "execute_result"
    }
   ],
   "source": [
    "X_train['Buchungstext'].value_counts()"
   ]
  },
  {
   "cell_type": "markdown",
   "metadata": {},
   "source": [
    "The next is pretty clean. We only discard special characters and treat everything lower case"
   ]
  },
  {
   "cell_type": "markdown",
   "metadata": {},
   "source": [
    "### #6 Verwendungszweck"
   ]
  },
  {
   "cell_type": "code",
   "execution_count": 26,
   "metadata": {},
   "outputs": [
    {
     "data": {
      "text/plain": [
       "Gehalt Adorsys GmbH & Co. KG End-To-End-Ref.: Notprovided Kundenreferenz: Nsct1603300013660000000000000000001 Gutschrift    11\n",
       "Ccbade31Xxx De71310108339900123456 Sparen End-To-End-Ref.: Notprovided Dauerauftrag Dauerauftrag                            10\n",
       "Byladem1Sbt De12773501123456789889 Miete Beuthener Str. 25 End-To-End-Ref.: Notprovided Dauerauftrag Dauerauftrag            9\n",
       "Mietzuschuss End-To-End-Ref.: Notprovided Kundenreferenz: Nsct1603080001510000000000000000006 Gutschrift                     7\n",
       "2831 Edeka Neubauer Nuernb.//Nuernb 2016-05-04T17:54:45 Kfn 9 Vj 1612 Lastschrift                                            4\n",
       "                                                                                                                            ..\n",
       "Interne Umbuchung                                                                                                            1\n",
       "Bears + Friends Gmb//Pulsnitz/De 20 16-01-02T14:18:06 Folgenr.000 Verfa Lld.2016-12                                          1\n",
       "303-4488385-6169917 Amazon .Mktplce Eu-De 1637782719640441                                                                   1\n",
       "Humanic//Nuernber/De 2016-01-23T13: 23:17 Folgenr.001 Verfalld.2020-12                                                       1\n",
       "Intersport Rent//Reit Im Winkl/De 2 016-03-05T09:57:27Folgenr.001 Verf Alld.2020 -12                                         1\n",
       "Name: Verwendungszweck, Length: 105, dtype: int64"
      ]
     },
     "execution_count": 26,
     "metadata": {},
     "output_type": "execute_result"
    }
   ],
   "source": [
    "X_train['Verwendungszweck'].value_counts()"
   ]
  },
  {
   "cell_type": "code",
   "execution_count": 27,
   "metadata": {},
   "outputs": [
    {
     "data": {
      "text/plain": [
       "201    Byladem Sbt De                     Miete Beuth...\n",
       "167         Edeka Neubauer Nuernb.//Nuernb     -  -  ...\n",
       "80     Visa           -   -       ,  Eur ,           ...\n",
       "23     Mietzuschuss End-To-End-Ref.: Notprovided Kund...\n",
       "139       -       -        Amazon .Mktplce Eu-De     ...\n",
       "                             ...                        \n",
       "202    Dm Fil.     H:     //Nuernberg/De      -  -  T...\n",
       "67                                     Bp          /    \n",
       "21     Gehalt Adorsys GmbH & Co. KG End-To-End-Ref.: ...\n",
       "60     Tk Maxx Nuernberg//Nuernberg/De      -  -  T  ...\n",
       "121    Visa                   ,  Eur ,             . ...\n",
       "Name: Verwendungszweck, Length: 167, dtype: object"
      ]
     },
     "execution_count": 27,
     "metadata": {},
     "output_type": "execute_result"
    }
   ],
   "source": [
    "X_train['Verwendungszweck'].replace(to_replace ='\\d', value = ' ', inplace=False, regex = True)"
   ]
  },
  {
   "cell_type": "markdown",
   "metadata": {},
   "source": [
    "In its raw format the feature is pretty unstructured. We discard number because they are mostly related to the bank account number, credit card number, or to the date/time."
   ]
  },
  {
   "cell_type": "markdown",
   "metadata": {},
   "source": [
    "### #7 Beguenstigter/Zahlungspflichtiger"
   ]
  },
  {
   "cell_type": "code",
   "execution_count": 29,
   "metadata": {},
   "outputs": [
    {
     "data": {
      "text/plain": [
       "Adorsys GmbH & Co. KG             14\n",
       "Kartenzahlung                     13\n",
       "Bankhaus August Lenz Atm          11\n",
       "Dm Drogeriemarkt Sagt Danke       10\n",
       "Michael Koffer                    10\n",
       "Amazon De Marketplace              9\n",
       "Georg Tasche                       9\n",
       "Rewe Nuernberg Aeu                 8\n",
       "Isabel Anna                        7\n",
       "Bargeld                            6\n",
       "Anna Fein                          6\n",
       "Lucas Fein                         4\n",
       "Christina Jung                     4\n",
       "Amazon Payments Europe S.C.A.      4\n",
       "Vag                                4\n",
       "Amazon Eu                          4\n",
       "Aramark Gmbh I.Hs. Teambank        3\n",
       "1U1 Telecom Gmbh                   3\n",
       "Stromio Gmbh                       2\n",
       "Esso Deutschland Gmbh              2\n",
       "Tk Maxx Nürnberg                   2\n",
       "Anna Fein, Lucas Fein              2\n",
       "E Wie Einfach Gmbh                 2\n",
       "Lastschrift Aus Kartenzahlung      1\n",
       "Fuerthermare                       1\n",
       "N-Style                            1\n",
       "Cafe Seon Dankt                    1\n",
       "Cafe + Bar Celona Nuernberg        1\n",
       "Ultra-Comix Gmbh                   1\n",
       "neue Playstation                   1\n",
       "Apotheke Sebalder Hoefe            1\n",
       "Skyline Gastst.+Veranst.           1\n",
       "Sushi Glas Gastronomie Gmbh        1\n",
       "Billpay Gmbh                       1\n",
       "Bears                              1\n",
       "Amazon Digital Video               1\n",
       "Hobex Ag                           1\n",
       "Breuninger Gmbh & Co.              1\n",
       "Rse Gastro Gmbh                    1\n",
       "Ard Zdf Dradio Beitragsservice     1\n",
       "Intersport Rent                    1\n",
       "69 Vero Moda Nuernberg City        1\n",
       "Humanic                            1\n",
       "California                         1\n",
       "Sparkasse Nuernberg                1\n",
       "Foodora                            1\n",
       "Gries Deco Company                 1\n",
       "Bears + Friends Gmb                1\n",
       "Zalando Se                         1\n",
       "Abschluss                          1\n",
       "Wuerzburger Versicherungs-Ag       1\n",
       "Name: Beguenstigter/Zahlungspflichtiger, dtype: int64"
      ]
     },
     "execution_count": 29,
     "metadata": {},
     "output_type": "execute_result"
    }
   ],
   "source": [
    "X_train['Beguenstigter/Zahlungspflichtiger'].value_counts()"
   ]
  },
  {
   "cell_type": "markdown",
   "metadata": {},
   "source": [
    "In this column the text is already pretty clean. As with all text fields we consider everything lower case and discard special characters."
   ]
  },
  {
   "cell_type": "markdown",
   "metadata": {},
   "source": [
    "### #5 + #6 + #7"
   ]
  },
  {
   "cell_type": "markdown",
   "metadata": {},
   "source": [
    "Since all of these fields share a common vocabulary we use a bag of words approach that counts the words separatly for each column but uses a shared vocabulary across the columns."
   ]
  },
  {
   "cell_type": "markdown",
   "metadata": {},
   "source": [
    "### #8 Kontonummer"
   ]
  },
  {
   "cell_type": "code",
   "execution_count": 38,
   "metadata": {},
   "outputs": [
    {
     "name": "stdout",
     "output_type": "stream",
     "text": [
      "0.4251497005988024\n"
     ]
    },
    {
     "data": {
      "text/plain": [
       "922904916                 28\n",
       "9736000780                13\n",
       "7807800780                11\n",
       "DE69790800529736000780    10\n",
       "7755566780                 9\n",
       "Name: Kontonummer, dtype: int64"
      ]
     },
     "execution_count": 38,
     "metadata": {},
     "output_type": "execute_result"
    }
   ],
   "source": [
    "# Fraction of how many transactions can be accounted to the 5 accounts with the most transactions.\n",
    "print(X_train['Kontonummer'].value_counts()[:5].sum() / len(X_train['Kontonummer']))\n",
    "X_train['Kontonummer'].value_counts()[:5]"
   ]
  },
  {
   "cell_type": "code",
   "execution_count": 46,
   "metadata": {},
   "outputs": [],
   "source": [
    "# All transactions have the same structure and are labeled 'leisure'\n",
    "#X_train[X_train['Kontonummer'] == '922904916'] \n",
    "#y_train[X_train['Kontonummer'] == '922904916']"
   ]
  },
  {
   "cell_type": "markdown",
   "metadata": {},
   "source": [
    "### #9 BLZ"
   ]
  },
  {
   "cell_type": "code",
   "execution_count": 39,
   "metadata": {},
   "outputs": [
    {
     "name": "stdout",
     "output_type": "stream",
     "text": [
      "0.6287425149700598\n"
     ]
    },
    {
     "data": {
      "text/plain": [
       "25190001       39\n",
       "76030080       28\n",
       "VOHADE2HXXX    20\n",
       "DRESDEFF790    10\n",
       "ESSEDE5F        8\n",
       "Name: BLZ, dtype: int64"
      ]
     },
     "execution_count": 39,
     "metadata": {},
     "output_type": "execute_result"
    }
   ],
   "source": [
    "# Fraction of how many transactions can be accounted to the 5 accounts with the most transactions.\n",
    "print(X_train['BLZ'].value_counts()[:5].sum() / len(X_train['BLZ']))\n",
    "X_train['BLZ'].value_counts()[:5]"
   ]
  },
  {
   "cell_type": "markdown",
   "metadata": {},
   "source": [
    "### #8 + #9"
   ]
  },
  {
   "cell_type": "markdown",
   "metadata": {},
   "source": [
    "'Kontonummer' and 'BLZ' will not be considered in the classifcation regardless of how they perform.\n",
    "Around 50 percent (0.425 and 0.628) of the transactions are associated with 5 accounts.\n",
    "In the case of '922904916' all 28 transactions are labled 'leisure'.\n",
    "While they have the same structure which may be used for training. The algorihm should not associate specific account numbers with lables. "
   ]
  },
  {
   "cell_type": "markdown",
   "metadata": {},
   "source": [
    "### #10 Betrag"
   ]
  },
  {
   "cell_type": "markdown",
   "metadata": {},
   "source": [
    "The 'Betrag' column contains entries with both a comma and a point as decimal separators."
   ]
  },
  {
   "cell_type": "code",
   "execution_count": 21,
   "metadata": {},
   "outputs": [
    {
     "data": {
      "text/plain": [
       "count     167.000000\n",
       "mean       52.811976\n",
       "std       619.004321\n",
       "min     -1000.000000\n",
       "25%      -100.000000\n",
       "50%       -28.850000\n",
       "75%       -12.980000\n",
       "max      2000.000000\n",
       "Name: Betrag, dtype: float64"
      ]
     },
     "execution_count": 21,
     "metadata": {},
     "output_type": "execute_result"
    }
   ],
   "source": [
    "betrag = pd.to_numeric(X_train['Betrag'].str.replace(',', '.'))\n",
    "betrag.describe()"
   ]
  },
  {
   "cell_type": "markdown",
   "metadata": {},
   "source": [
    "In almost all cases feature scaling enhances the training procedure. Two common scalings are min-mix scaling/normalization and standardization."
   ]
  },
  {
   "cell_type": "code",
   "execution_count": 265,
   "metadata": {},
   "outputs": [
    {
     "data": {
      "image/png": "[encoded data removed]",
      "text/plain": [
       "<Figure size 432x288 with 1 Axes>"
      ]
     },
     "metadata": {
      "needs_background": "light"
     },
     "output_type": "display_data"
    }
   ],
   "source": [
    "plt.hist(betrag)\n",
    "plt.show()"
   ]
  },
  {
   "cell_type": "markdown",
   "metadata": {},
   "source": [
    "Since we have quite some outliers we will use standardization, which is not so much affected by outliers as normalization is."
   ]
  },
  {
   "cell_type": "markdown",
   "metadata": {},
   "source": [
    "### #11 Waehrung"
   ]
  },
  {
   "cell_type": "code",
   "execution_count": 23,
   "metadata": {},
   "outputs": [
    {
     "data": {
      "text/html": [
       "<div>\n",
       "<style scoped>\n",
       "    .dataframe tbody tr th:only-of-type {\n",
       "        vertical-align: middle;\n",
       "    }\n",
       "\n",
       "    .dataframe tbody tr th {\n",
       "        vertical-align: top;\n",
       "    }\n",
       "\n",
       "    .dataframe thead th {\n",
       "        text-align: right;\n",
       "    }\n",
       "</style>\n",
       "<table border=\"1\" class=\"dataframe\">\n",
       "  <thead>\n",
       "    <tr style=\"text-align: right;\">\n",
       "      <th></th>\n",
       "      <th>Unnamed: 0</th>\n",
       "      <th>Auftragskonto</th>\n",
       "      <th>Buchungstag</th>\n",
       "      <th>Valutadatum</th>\n",
       "      <th>Buchungstext</th>\n",
       "      <th>Verwendungszweck</th>\n",
       "      <th>Beguenstigter/Zahlungspflichtiger</th>\n",
       "      <th>Kontonummer</th>\n",
       "      <th>BLZ</th>\n",
       "      <th>Betrag</th>\n",
       "      <th>Waehrung</th>\n",
       "    </tr>\n",
       "  </thead>\n",
       "  <tbody>\n",
       "  </tbody>\n",
       "</table>\n",
       "</div>"
      ],
      "text/plain": [
       "Empty DataFrame\n",
       "Columns: [Unnamed: 0, Auftragskonto, Buchungstag, Valutadatum, Buchungstext, Verwendungszweck, Beguenstigter/Zahlungspflichtiger, Kontonummer, BLZ, Betrag, Waehrung]\n",
       "Index: []"
      ]
     },
     "execution_count": 23,
     "metadata": {},
     "output_type": "execute_result"
    }
   ],
   "source": [
    "X_train[X_train['Waehrung'] != 'EUR']"
   ]
  },
  {
   "cell_type": "markdown",
   "metadata": {},
   "source": [
    "Every entry has the same value which means it adds no valuable information.\n",
    "In general the currency could be a good feature but since all the entries are in 'EUR' it will not be considered."
   ]
  },
  {
   "cell_type": "markdown",
   "metadata": {},
   "source": [
    "---"
   ]
  },
  {
   "cell_type": "markdown",
   "metadata": {},
   "source": [
    "The actual transformations of the above insights are implemented in Transformers such that they can be integrated in a pipeline approach."
   ]
  },
  {
   "cell_type": "markdown",
   "metadata": {},
   "source": [
    "## Transformers"
   ]
  },
  {
   "cell_type": "code",
   "execution_count": 48,
   "metadata": {},
   "outputs": [],
   "source": [
    "class CrossColumnCountVectorizer(BaseEstimator, TransformerMixin):\n",
    "\n",
    "    def __init__(self):\n",
    "        self._vec = CountVectorizer()\n",
    "    \n",
    "    def fit(self, X, y=None):\n",
    "        words = pd.concat([X.loc[:, col] for col in X.columns])\n",
    "        self._vec.fit(words)\n",
    "        return self\n",
    "    \n",
    "    def transform(self, X, y=None):\n",
    "        transformed_cols = [self._vec.transform(X.loc[:, col]) for col in X.columns]\n",
    "        stacked_vectors = hstack(transformed_cols)\n",
    "        return stacked_vectors\n",
    "                                 \n",
    "    def get_feature_names(self):\n",
    "        return self._vec.get_feature_names()"
   ]
  },
  {
   "cell_type": "code",
   "execution_count": 49,
   "metadata": {},
   "outputs": [],
   "source": [
    "class DenseTransformer(BaseEstimator, TransformerMixin):\n",
    "    \n",
    "    def fit(self, X, y=None):\n",
    "        return self\n",
    "\n",
    "    def transform(self, X, y=None):\n",
    "        return X.todense()"
   ]
  },
  {
   "cell_type": "code",
   "execution_count": 50,
   "metadata": {},
   "outputs": [],
   "source": [
    "class ColumnSelector(BaseEstimator, TransformerMixin):\n",
    "    \n",
    "    def __init__(self, feature_selection=None):\n",
    "        self.feature_selection = feature_selection\n",
    "    \n",
    "    def fit(self, X, y=None):\n",
    "        return self\n",
    "    \n",
    "    def transform(self, X, y=None):\n",
    "        if self.feature_selection:\n",
    "            return X[self.feature_selection]\n",
    "        else:\n",
    "            return X"
   ]
  },
  {
   "cell_type": "code",
   "execution_count": 51,
   "metadata": {},
   "outputs": [],
   "source": [
    "class BasicPreprocessor(BaseEstimator, TransformerMixin):\n",
    "    \n",
    "    def fit(self, X, y=None):\n",
    "        return self\n",
    "    \n",
    "    def transform(self, X, y=None):\n",
    "        X_cleaned = X.copy()\n",
    "        X_cleaned['Auftragskonto'].fillna(0, inplace=True)\n",
    "        X_cleaned['Betrag'] = X_cleaned['Betrag'].str.replace(',', '.')\n",
    "        X_cleaned['Betrag'] = pd.to_numeric(X_cleaned['Betrag'], errors='raise')\n",
    "        X_cleaned['Verwendungszweck'].replace(to_replace ='\\d', value = ' ', inplace=True, regex = True)\n",
    "        return X_cleaned "
   ]
  },
  {
   "cell_type": "code",
   "execution_count": 52,
   "metadata": {},
   "outputs": [],
   "source": [
    "class DateEncoder(BaseEstimator, TransformerMixin):\n",
    "    \n",
    "    def fit(self, X, y=None):\n",
    "        return self\n",
    "    \n",
    "    def transform(self, X, y=None):\n",
    "        dates = pd.to_datetime(X.squeeze(), format = '%d.%m.%Y', errors = 'raise')\n",
    "        days = dates.apply(lambda d: d.day).values.reshape(-1,1)\n",
    "        weekdays = dates.apply(lambda d: d.isoweekday()).values.reshape(-1,1)\n",
    "        return np.hstack([days, weekdays])"
   ]
  },
  {
   "cell_type": "markdown",
   "metadata": {},
   "source": [
    "# Model / Pipeline"
   ]
  },
  {
   "cell_type": "code",
   "execution_count": 53,
   "metadata": {},
   "outputs": [],
   "source": [
    "selected_features = ['Auftragskonto',\n",
    "                     'Buchungstag',\n",
    "                     'Betrag', \n",
    "                     'Buchungstext', \n",
    "                     'Beguenstigter/Zahlungspflichtiger', \n",
    "                     'Verwendungszweck'\n",
    "                    ]\n",
    "\n",
    "CATEGORICAL_ATTRIBUTES = ['Auftragskonto']\n",
    "NUMERICAL_ATTRIBUTES = ['Betrag']\n",
    "DATE_ATTRIBUTES = ['Buchungstag']\n",
    "TEXT_ATTRIBUTES = ['Buchungstext', 'Beguenstigter/Zahlungspflichtiger', 'Verwendungszweck']\n",
    "\n",
    "numerical_pipleline = Pipeline([\n",
    "    ('imputer', SimpleImputer(strategy='median')),\n",
    "    ('standardizer', StandardScaler())\n",
    "])\n",
    "\n",
    "model = Pipeline([\n",
    "    ('ColumnSelector',  ColumnSelector(selected_features)),\n",
    "    ('BasicPreprocessing', BasicPreprocessor()),\n",
    "    ('ColumnTransformer', ColumnTransformer([\n",
    "        ('numerical_pipeline', numerical_pipleline, NUMERICAL_ATTRIBUTES),\n",
    "        ('date_encoder', DateEncoder(), DATE_ATTRIBUTES),\n",
    "        ('vectorizer', CrossColumnCountVectorizer(), TEXT_ATTRIBUTES),\n",
    "        ('one_hot_encoder', OneHotEncoder(handle_unknown='ignore'), CATEGORICAL_ATTRIBUTES)\n",
    "    ], remainder='drop')),\n",
    "    \n",
    "    # CrossColumnCountVectorizer returns a sparse matrix\n",
    "    # but GaussianNB requires a dense matrix.\n",
    "    ('to_dense', DenseTransformer()),\n",
    "    \n",
    "    # For this problem we use the Gaussian Naive Bayes algorithm\n",
    "    ('NaiveBayesModel', GaussianNB())\n",
    "])"
   ]
  },
  {
   "cell_type": "code",
   "execution_count": null,
   "metadata": {},
   "outputs": [],
   "source": []
  },
  {
   "cell_type": "code",
   "execution_count": null,
   "metadata": {},
   "outputs": [],
   "source": []
  },
  {
   "cell_type": "code",
   "execution_count": 54,
   "metadata": {},
   "outputs": [
    {
     "name": "stdout",
     "output_type": "stream",
     "text": [
      "[0.88235294 0.91176471 0.84848485 0.87878788 0.90909091]\n",
      "0.886096256684492\n"
     ]
    }
   ],
   "source": [
    "scores = cross_val_score(model, \n",
    "                         X_train, \n",
    "                         y_train,\n",
    "                         scoring='accuracy',\n",
    "                         cv=KFold(5, shuffle=True))\n",
    "print(scores)\n",
    "print(scores.mean())"
   ]
  },
  {
   "cell_type": "code",
   "execution_count": 55,
   "metadata": {},
   "outputs": [
    {
     "data": {
      "text/plain": [
       "Pipeline(steps=[('ColumnSelector',\n",
       "                 ColumnSelector(feature_selection=['Auftragskonto',\n",
       "                                                   'Buchungstag', 'Betrag',\n",
       "                                                   'Buchungstext',\n",
       "                                                   'Beguenstigter/Zahlungspflichtiger',\n",
       "                                                   'Verwendungszweck'])),\n",
       "                ('BasicPreprocessing', BasicPreprocessor()),\n",
       "                ('ColumnTransformer',\n",
       "                 ColumnTransformer(transformers=[('numerical_pipeline',\n",
       "                                                  Pipeline(steps=[('imputer',\n",
       "                                                                   SimpleImputer(strategy='m...\n",
       "                                                                  ('standardizer',\n",
       "                                                                   StandardScaler())]),\n",
       "                                                  ['Betrag']),\n",
       "                                                 ('date_encoder', DateEncoder(),\n",
       "                                                  ['Buchungstag']),\n",
       "                                                 ('vectorizer',\n",
       "                                                  CrossColumnCountVectorizer(),\n",
       "                                                  ['Buchungstext',\n",
       "                                                   'Beguenstigter/Zahlungspflichtiger',\n",
       "                                                   'Verwendungszweck']),\n",
       "                                                 ('one_hot_encoder',\n",
       "                                                  OneHotEncoder(handle_unknown='ignore'),\n",
       "                                                  ['Auftragskonto'])])),\n",
       "                ('to_dense', DenseTransformer()),\n",
       "                ('NaiveBayesModel', GaussianNB())])"
      ]
     },
     "execution_count": 55,
     "metadata": {},
     "output_type": "execute_result"
    }
   ],
   "source": [
    "model.fit(X_train, y_train)"
   ]
  },
  {
   "cell_type": "code",
   "execution_count": null,
   "metadata": {},
   "outputs": [],
   "source": []
  },
  {
   "cell_type": "code",
   "execution_count": null,
   "metadata": {},
   "outputs": [],
   "source": []
  },
  {
   "cell_type": "markdown",
   "metadata": {},
   "source": [
    "# Evaluation"
   ]
  },
  {
   "cell_type": "code",
   "execution_count": 61,
   "metadata": {},
   "outputs": [
    {
     "name": "stdout",
     "output_type": "stream",
     "text": [
      "Evaluation on the training data set:\n",
      "                  precision    recall  f1-score   support\n",
      "\n",
      "         finance       1.00      1.00      1.00        26\n",
      "          income       1.00      1.00      1.00        14\n",
      "         leisure       1.00      1.00      1.00        52\n",
      "          living       1.00      1.00      1.00        21\n",
      "         private       1.00      1.00      1.00        17\n",
      "standardOfLiving       1.00      1.00      1.00        37\n",
      "\n",
      "        accuracy                           1.00       167\n",
      "       macro avg       1.00      1.00      1.00       167\n",
      "    weighted avg       1.00      1.00      1.00       167\n",
      "\n"
     ]
    }
   ],
   "source": [
    "print(\"Evaluation on the training data set:\")\n",
    "print(classification_report(y_train, model.predict(X_train)))"
   ]
  },
  {
   "cell_type": "code",
   "execution_count": 64,
   "metadata": {},
   "outputs": [
    {
     "name": "stdout",
     "output_type": "stream",
     "text": [
      "Evaluation on the test data set:\n",
      "                  precision    recall  f1-score   support\n",
      "\n",
      "         finance       1.00      1.00      1.00         7\n",
      "          income       1.00      1.00      1.00         3\n",
      "         leisure       0.93      1.00      0.96        13\n",
      "          living       1.00      0.80      0.89         5\n",
      "         private       1.00      1.00      1.00         4\n",
      "standardOfLiving       0.90      0.90      0.90        10\n",
      "\n",
      "        accuracy                           0.95        42\n",
      "       macro avg       0.97      0.95      0.96        42\n",
      "    weighted avg       0.95      0.95      0.95        42\n",
      "\n"
     ]
    }
   ],
   "source": [
    "print(\"Evaluation on the test data set:\")\n",
    "print(classification_report(y_test, model.predict(X_test)))"
   ]
  },
  {
   "cell_type": "code",
   "execution_count": null,
   "metadata": {},
   "outputs": [],
   "source": []
  }
 ],
 "metadata": {
  "kernelspec": {
   "display_name": "Python 3",
   "language": "python",
   "name": "python3"
  },
  "language_info": {
   "codemirror_mode": {
    "name": "ipython",
    "version": 3
   },
   "file_extension": ".py",
   "mimetype": "text/x-python",
   "name": "python",
   "nbconvert_exporter": "python",
   "pygments_lexer": "ipython3",
   "version": "3.8.5"
  }
 },
 "nbformat": 4,
 "nbformat_minor": 4
}
